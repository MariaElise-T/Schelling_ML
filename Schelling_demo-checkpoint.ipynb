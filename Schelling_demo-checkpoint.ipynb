{
 "cells": [
  {
   "cell_type": "code",
   "execution_count": 4,
   "id": "20c0a7b1",
   "metadata": {},
   "outputs": [],
   "source": [
    "%matplotlib inline\n",
    "import matplotlib.pyplot as plt\n",
    "plt.rcParams[\"figure.figsize\"] = (11, 5)  #set default figure size\n",
    "from random import uniform, seed\n",
    "from math import sqrt\n",
    "from dataclasses import dataclass"
   ]
  },
  {
   "cell_type": "code",
   "execution_count": 5,
   "id": "03cadb11",
   "metadata": {},
   "outputs": [],
   "source": [
    "@dataclass\n",
    "class Agent:\n",
    "    AgentID: int\n",
    "    Color: str \n",
    "    Happy: int \n",
    "    x_loc: int\n",
    "    y_loc: int\n",
    "    neighbors: []"
   ]
  },
  {
   "cell_type": "code",
   "execution_count": 10,
   "id": "31b345ca",
   "metadata": {},
   "outputs": [],
   "source": [
    "Agent_Array = []\n",
    "for i in range(0, 249):\n",
    "    Agent_Array.append(Agent(AgentID=i, Color=\"orange\", Happy=0, x_loc=uniform(0, 1), y_loc=uniform(0, 1), neighbors=[]))\n",
    "for i in range(0, 249):\n",
    "    Agent_Array.append(Agent(AgentID=i+250, Color=\"green\", Happy=0, x_loc=uniform(0, 1), y_loc=uniform(0, 1), neighbors=[]))"
   ]
  },
  {
   "cell_type": "code",
   "execution_count": null,
   "id": "1649244a",
   "metadata": {},
   "outputs": [],
   "source": [
    "def findNeighbors(Agent_Array):\n",
    "    N = len(Agent_Array)\n",
    "    for i in range(0, N):\n",
    "        distance = []\n",
    "        for j in range(0, N):\n",
    "            distance[j] = sqrt(Agent_Array[i].x_loc-(Agent_Array[j].x_loc)^2+(Agent_Array[i].y_loc-(Agent_Array[j].y_loc)^2) \n",
    "        Agent_Array[i].neighbors = distance"
   ]
  },
  {
   "cell_type": "code",
   "execution_count": null,
   "id": "a9fcdc08",
   "metadata": {},
   "outputs": [],
   "source": [
    "def assignHappiness(Agent_Array):\n",
    "    N = len(Agent_Array)\n",
    "    for i in range(0, N):\n",
    "        idx = np.argpartition(Agent, k)"
   ]
  }
 ],
 "metadata": {
  "kernelspec": {
   "display_name": "Python 3 (ipykernel)",
   "language": "python",
   "name": "python3"
  },
  "language_info": {
   "codemirror_mode": {
    "name": "ipython",
    "version": 3
   },
   "file_extension": ".py",
   "mimetype": "text/x-python",
   "name": "python",
   "nbconvert_exporter": "python",
   "pygments_lexer": "ipython3",
   "version": "3.9.12"
  }
 },
 "nbformat": 4,
 "nbformat_minor": 5
}
