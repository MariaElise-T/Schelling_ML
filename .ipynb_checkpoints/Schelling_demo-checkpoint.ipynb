{
 "cells": [
  {
   "cell_type": "code",
   "execution_count": 1,
   "metadata": {},
   "outputs": [
    {
     "ename": "ModuleNotFoundError",
     "evalue": "No module named 'kiwisolver._cext'",
     "output_type": "error",
     "traceback": [
      "\u001b[0;31m---------------------------------------------------------------------------\u001b[0m",
      "\u001b[0;31mModuleNotFoundError\u001b[0m                       Traceback (most recent call last)",
      "\u001b[0;32m<ipython-input-1-86a1afd92690>\u001b[0m in \u001b[0;36m<module>\u001b[0;34m\u001b[0m\n\u001b[0;32m----> 1\u001b[0;31m \u001b[0;32mimport\u001b[0m \u001b[0mmatplotlib\u001b[0m\u001b[0;34m.\u001b[0m\u001b[0mpyplot\u001b[0m \u001b[0;32mas\u001b[0m \u001b[0mplt\u001b[0m\u001b[0;34m\u001b[0m\u001b[0;34m\u001b[0m\u001b[0m\n\u001b[0m\u001b[1;32m      2\u001b[0m \u001b[0;32mimport\u001b[0m \u001b[0mnumpy\u001b[0m \u001b[0;32mas\u001b[0m \u001b[0mnp\u001b[0m\u001b[0;34m\u001b[0m\u001b[0;34m\u001b[0m\u001b[0m\n\u001b[1;32m      3\u001b[0m \u001b[0;32mimport\u001b[0m \u001b[0mpandas\u001b[0m \u001b[0;32mas\u001b[0m \u001b[0mpd\u001b[0m\u001b[0;34m\u001b[0m\u001b[0;34m\u001b[0m\u001b[0m\n\u001b[1;32m      4\u001b[0m \u001b[0;32mimport\u001b[0m \u001b[0mseaborn\u001b[0m \u001b[0;32mas\u001b[0m \u001b[0msns\u001b[0m\u001b[0;34m\u001b[0m\u001b[0;34m\u001b[0m\u001b[0m\n\u001b[1;32m      5\u001b[0m \u001b[0;32mfrom\u001b[0m \u001b[0mrandom\u001b[0m \u001b[0;32mimport\u001b[0m \u001b[0muniform\u001b[0m\u001b[0;34m,\u001b[0m \u001b[0mseed\u001b[0m\u001b[0;34m\u001b[0m\u001b[0;34m\u001b[0m\u001b[0m\n",
      "\u001b[0;32m~/anaconda3/lib/python3.7/site-packages/matplotlib/pyplot.py\u001b[0m in \u001b[0;36m<module>\u001b[0;34m\u001b[0m\n\u001b[1;32m     30\u001b[0m \u001b[0;32mfrom\u001b[0m \u001b[0mcycler\u001b[0m \u001b[0;32mimport\u001b[0m \u001b[0mcycler\u001b[0m\u001b[0;34m\u001b[0m\u001b[0;34m\u001b[0m\u001b[0m\n\u001b[1;32m     31\u001b[0m \u001b[0;32mimport\u001b[0m \u001b[0mmatplotlib\u001b[0m\u001b[0;34m\u001b[0m\u001b[0;34m\u001b[0m\u001b[0m\n\u001b[0;32m---> 32\u001b[0;31m \u001b[0;32mimport\u001b[0m \u001b[0mmatplotlib\u001b[0m\u001b[0;34m.\u001b[0m\u001b[0mcolorbar\u001b[0m\u001b[0;34m\u001b[0m\u001b[0;34m\u001b[0m\u001b[0m\n\u001b[0m\u001b[1;32m     33\u001b[0m \u001b[0;32mimport\u001b[0m \u001b[0mmatplotlib\u001b[0m\u001b[0;34m.\u001b[0m\u001b[0mimage\u001b[0m\u001b[0;34m\u001b[0m\u001b[0;34m\u001b[0m\u001b[0m\n\u001b[1;32m     34\u001b[0m \u001b[0;32mfrom\u001b[0m \u001b[0mmatplotlib\u001b[0m \u001b[0;32mimport\u001b[0m \u001b[0mrcsetup\u001b[0m\u001b[0;34m,\u001b[0m \u001b[0mstyle\u001b[0m\u001b[0;34m\u001b[0m\u001b[0;34m\u001b[0m\u001b[0m\n",
      "\u001b[0;32m~/anaconda3/lib/python3.7/site-packages/matplotlib/colorbar.py\u001b[0m in \u001b[0;36m<module>\u001b[0;34m\u001b[0m\n\u001b[1;32m     32\u001b[0m \u001b[0;32mimport\u001b[0m \u001b[0mmatplotlib\u001b[0m\u001b[0;34m.\u001b[0m\u001b[0mcontour\u001b[0m \u001b[0;32mas\u001b[0m \u001b[0mcontour\u001b[0m\u001b[0;34m\u001b[0m\u001b[0;34m\u001b[0m\u001b[0m\n\u001b[1;32m     33\u001b[0m \u001b[0;32mimport\u001b[0m \u001b[0mmatplotlib\u001b[0m\u001b[0;34m.\u001b[0m\u001b[0mcm\u001b[0m \u001b[0;32mas\u001b[0m \u001b[0mcm\u001b[0m\u001b[0;34m\u001b[0m\u001b[0;34m\u001b[0m\u001b[0m\n\u001b[0;32m---> 34\u001b[0;31m \u001b[0;32mimport\u001b[0m \u001b[0mmatplotlib\u001b[0m\u001b[0;34m.\u001b[0m\u001b[0mgridspec\u001b[0m \u001b[0;32mas\u001b[0m \u001b[0mgridspec\u001b[0m\u001b[0;34m\u001b[0m\u001b[0;34m\u001b[0m\u001b[0m\n\u001b[0m\u001b[1;32m     35\u001b[0m \u001b[0;32mimport\u001b[0m \u001b[0mmatplotlib\u001b[0m\u001b[0;34m.\u001b[0m\u001b[0mpatches\u001b[0m \u001b[0;32mas\u001b[0m \u001b[0mmpatches\u001b[0m\u001b[0;34m\u001b[0m\u001b[0;34m\u001b[0m\u001b[0m\n\u001b[1;32m     36\u001b[0m \u001b[0;32mimport\u001b[0m \u001b[0mmatplotlib\u001b[0m\u001b[0;34m.\u001b[0m\u001b[0mpath\u001b[0m \u001b[0;32mas\u001b[0m \u001b[0mmpath\u001b[0m\u001b[0;34m\u001b[0m\u001b[0;34m\u001b[0m\u001b[0m\n",
      "\u001b[0;32m~/anaconda3/lib/python3.7/site-packages/matplotlib/gridspec.py\u001b[0m in \u001b[0;36m<module>\u001b[0;34m\u001b[0m\n\u001b[1;32m     23\u001b[0m \u001b[0;32mfrom\u001b[0m \u001b[0mmatplotlib\u001b[0m \u001b[0;32mimport\u001b[0m \u001b[0m_pylab_helpers\u001b[0m\u001b[0;34m,\u001b[0m \u001b[0mcbook\u001b[0m\u001b[0;34m,\u001b[0m \u001b[0mtight_layout\u001b[0m\u001b[0;34m,\u001b[0m \u001b[0mrcParams\u001b[0m\u001b[0;34m\u001b[0m\u001b[0;34m\u001b[0m\u001b[0m\n\u001b[1;32m     24\u001b[0m \u001b[0;32mfrom\u001b[0m \u001b[0mmatplotlib\u001b[0m\u001b[0;34m.\u001b[0m\u001b[0mtransforms\u001b[0m \u001b[0;32mimport\u001b[0m \u001b[0mBbox\u001b[0m\u001b[0;34m\u001b[0m\u001b[0;34m\u001b[0m\u001b[0m\n\u001b[0;32m---> 25\u001b[0;31m \u001b[0;32mimport\u001b[0m \u001b[0mmatplotlib\u001b[0m\u001b[0;34m.\u001b[0m\u001b[0m_layoutbox\u001b[0m \u001b[0;32mas\u001b[0m \u001b[0mlayoutbox\u001b[0m\u001b[0;34m\u001b[0m\u001b[0;34m\u001b[0m\u001b[0m\n\u001b[0m\u001b[1;32m     26\u001b[0m \u001b[0;34m\u001b[0m\u001b[0m\n\u001b[1;32m     27\u001b[0m \u001b[0m_log\u001b[0m \u001b[0;34m=\u001b[0m \u001b[0mlogging\u001b[0m\u001b[0;34m.\u001b[0m\u001b[0mgetLogger\u001b[0m\u001b[0;34m(\u001b[0m\u001b[0m__name__\u001b[0m\u001b[0;34m)\u001b[0m\u001b[0;34m\u001b[0m\u001b[0;34m\u001b[0m\u001b[0m\n",
      "\u001b[0;32m~/anaconda3/lib/python3.7/site-packages/matplotlib/_layoutbox.py\u001b[0m in \u001b[0;36m<module>\u001b[0;34m\u001b[0m\n\u001b[1;32m     17\u001b[0m \u001b[0;34m\u001b[0m\u001b[0m\n\u001b[1;32m     18\u001b[0m \u001b[0;32mimport\u001b[0m \u001b[0mitertools\u001b[0m\u001b[0;34m\u001b[0m\u001b[0;34m\u001b[0m\u001b[0m\n\u001b[0;32m---> 19\u001b[0;31m \u001b[0;32mimport\u001b[0m \u001b[0mkiwisolver\u001b[0m \u001b[0;32mas\u001b[0m \u001b[0mkiwi\u001b[0m\u001b[0;34m\u001b[0m\u001b[0;34m\u001b[0m\u001b[0m\n\u001b[0m\u001b[1;32m     20\u001b[0m \u001b[0;32mimport\u001b[0m \u001b[0mlogging\u001b[0m\u001b[0;34m\u001b[0m\u001b[0;34m\u001b[0m\u001b[0m\n\u001b[1;32m     21\u001b[0m \u001b[0;32mimport\u001b[0m \u001b[0mnumpy\u001b[0m \u001b[0;32mas\u001b[0m \u001b[0mnp\u001b[0m\u001b[0;34m\u001b[0m\u001b[0;34m\u001b[0m\u001b[0m\n",
      "\u001b[0;32m~/anaconda3/lib/python3.7/site-packages/kiwisolver/__init__.py\u001b[0m in \u001b[0;36m<module>\u001b[0;34m\u001b[0m\n\u001b[1;32m      6\u001b[0m \u001b[0;31m# The full license is in the file LICENSE, distributed with this software.\u001b[0m\u001b[0;34m\u001b[0m\u001b[0;34m\u001b[0m\u001b[0;34m\u001b[0m\u001b[0m\n\u001b[1;32m      7\u001b[0m \u001b[0;31m# --------------------------------------------------------------------------------------\u001b[0m\u001b[0;34m\u001b[0m\u001b[0;34m\u001b[0m\u001b[0;34m\u001b[0m\u001b[0m\n\u001b[0;32m----> 8\u001b[0;31m from ._cext import (\n\u001b[0m\u001b[1;32m      9\u001b[0m     \u001b[0mBadRequiredStrength\u001b[0m\u001b[0;34m,\u001b[0m\u001b[0;34m\u001b[0m\u001b[0;34m\u001b[0m\u001b[0m\n\u001b[1;32m     10\u001b[0m     \u001b[0mConstraint\u001b[0m\u001b[0;34m,\u001b[0m\u001b[0;34m\u001b[0m\u001b[0;34m\u001b[0m\u001b[0m\n",
      "\u001b[0;31mModuleNotFoundError\u001b[0m: No module named 'kiwisolver._cext'"
     ]
    }
   ],
   "source": [
    "import matplotlib.pyplot as plt\n",
    "import numpy as np\n",
    "import pandas as pd\n",
    "import seaborn as sns\n",
    "from random import uniform, seed\n",
    "from math import sqrt\n",
    "from dataclasses import dataclass"
   ]
  },
  {
   "cell_type": "code",
   "execution_count": null,
   "metadata": {},
   "outputs": [],
   "source": [
    "@dataclass\n",
    "class Agent:\n",
    "    AgentID: int\n",
    "    Color: str \n",
    "    Happy: int \n",
    "    x_loc: float\n",
    "    y_loc: float\n",
    "    neighbors: []"
   ]
  },
  {
   "cell_type": "code",
   "execution_count": null,
   "metadata": {},
   "outputs": [],
   "source": [
    "def findNeighborDistances(Agent_Array):\n",
    "    for i in range(0, len(Agent_Array)):\n",
    "        Agent_Array[i].neighbors.clear()\n",
    "        for j in range(0, len(Agent_Array)):\n",
    "            Agent_Array[i].neighbors.append((Agent_Array[j].AgentID, sqrt((Agent_Array[i].x_loc-Agent_Array[j].x_loc)**2+(Agent_Array[i].y_loc-Agent_Array[j].y_loc)**2)))"
   ]
  },
  {
   "cell_type": "code",
   "execution_count": null,
   "metadata": {},
   "outputs": [],
   "source": [
    "def assignHappiness(Agent_Array, bias, k):\n",
    "    for i in range(0, len(Agent_Array)):\n",
    "        closestNeighbors = sorted(Agent_Array[i].neighbors, key = lambda x: x[1])[1:(k+1)]\n",
    "        matchedNeighbors = 0\n",
    "        AgentColor = Agent_Array[i].Color\n",
    "        for j in range(0, len(closestNeighbors)):\n",
    "            neighborID = closestNeighbors[j][0]\n",
    "            for Agent in Agent_Array:\n",
    "                if Agent.AgentID == neighborID:\n",
    "                    if Agent.Color==AgentColor:\n",
    "                        matchedNeighbors = matchedNeighbors + 1\n",
    "        if(matchedNeighbors/k >= bias):\n",
    "            Agent_Array[i].Happy = 1\n",
    "        else:\n",
    "            Agent_Array[i].Happy = 0"
   ]
  },
  {
   "cell_type": "code",
   "execution_count": null,
   "metadata": {},
   "outputs": [],
   "source": [
    "def decideWhoMoves(Agent_Array):\n",
    "    N = len(Agent_Array)\n",
    "    for i in range(0, N):\n",
    "        if(Agent_Array[i].Happy == 0):\n",
    "            Agent_Array[i].x_loc=uniform(0, 1)\n",
    "            Agent_Array[i].y_loc=uniform(0, 1)"
   ]
  },
  {
   "cell_type": "code",
   "execution_count": null,
   "metadata": {},
   "outputs": [],
   "source": [
    "def plotNeighborhood(Agent_Array):\n",
    "    df = pd.DataFrame( columns=['x_loc', 'y_loc', 'color'])\n",
    "    i=0\n",
    "    for Agent in Agent_Array:\n",
    "        df.loc[i] = [Agent.x_loc, Agent.y_loc, Agent.Color]\n",
    "        i = i+1\n",
    "    plt.scatter(df[\"x_loc\"], df[\"y_loc\"], c = df[\"color\"])\n",
    "    plt.show()"
   ]
  },
  {
   "cell_type": "code",
   "execution_count": null,
   "metadata": {},
   "outputs": [],
   "source": [
    "def checkHappiness(Agent_Array, plots):\n",
    "    NumHappy = 0\n",
    "    for Agent in Agent_Array:\n",
    "        if Agent.Happy == 1:\n",
    "            NumHappy = NumHappy+1\n",
    "    if(plots == True):\n",
    "        print(\"Percent of happy agents: \", 100*NumHappy/len(Agent_Array), \"% \\n\")\n",
    "    return 100*NumHappy/len(Agent_Array)"
   ]
  },
  {
   "cell_type": "code",
   "execution_count": null,
   "metadata": {},
   "outputs": [],
   "source": [
    "def runSim(Agent_Array, steps, bias, k, plots):\n",
    "    if(plots == True):\n",
    "        print(\"Iteration 0: \\n\")\n",
    "        plotNeighborhood(Agent_Array)\n",
    "    percHappyVec = []\n",
    "    for i in range(0, steps):\n",
    "        findNeighborDistances(Agent_Array)\n",
    "        assignHappiness(Agent_Array, bias, k)\n",
    "        decideWhoMoves(Agent_Array)\n",
    "        if(plots == True):\n",
    "            print(\"Iteration \", i+1, \" : \\n\")\n",
    "        percHappy = checkHappiness(Agent_Array, plots)\n",
    "        percHappyVec.append(percHappy)\n",
    "        if(plots == True):\n",
    "            plotNeighborhood(Agent_Array)\n",
    "    return percHappyVec"
   ]
  },
  {
   "cell_type": "code",
   "execution_count": null,
   "metadata": {},
   "outputs": [],
   "source": [
    "def setupAndRunSim(steps, bias, k, orangeNum, greenNum, plots):\n",
    "    Agent_Array = []\n",
    "    for i in range(0, orangeNum):\n",
    "        Agent_Array.append(Agent(AgentID=i, Color=\"orange\", Happy=0, x_loc=uniform(0, 1), y_loc=uniform(0, 1), neighbors=[]))\n",
    "    for i in range(0, greenNum):\n",
    "        Agent_Array.append(Agent(AgentID=i+250, Color=\"green\", Happy=0, x_loc=uniform(0, 1), y_loc=uniform(0, 1), neighbors=[]))\n",
    "    finalPercHappyVec = runSim(Agent_Array, steps, bias, k, plots)\n",
    "    return finalPercHappyVec"
   ]
  },
  {
   "cell_type": "code",
   "execution_count": null,
   "metadata": {},
   "outputs": [],
   "source": [
    "vec = setupAndRunSim(10, 0.51, 10, 249, 249, True)"
   ]
  },
  {
   "cell_type": "code",
   "execution_count": null,
   "metadata": {},
   "outputs": [],
   "source": [
    "def rejectABC_Posterior(samples, test_vec, steps, k, orangeNum, greenNum):\n",
    "    params = []\n",
    "    dists = []\n",
    "    for i in range(0, samples):\n",
    "        print(\"On simulation \", i+1, \" of \", samples, \"\\n\")\n",
    "        gen_param = uniform(0, 1)\n",
    "        gen_vec = setupAndRunSim(steps, gen_param, k, orangeNum, greenNum, False)\n",
    "        dist = np.linalg.norm(np.array(test_vec)-np.array(gen_vec))\n",
    "        params.append(gen_param)\n",
    "        dists.append(dist)\n",
    "    return params, dists        "
   ]
  },
  {
   "cell_type": "code",
   "execution_count": null,
   "metadata": {},
   "outputs": [],
   "source": [
    "params, dists = rejectABC_Posterior(1000, vec, 10, 10, 249, 249)"
   ]
  },
  {
   "cell_type": "code",
   "execution_count": null,
   "metadata": {},
   "outputs": [],
   "source": [
    "df1 = pd.DataFrame()\n",
    "df1['param'] = params\n",
    "df1['dist'] = dists"
   ]
  },
  {
   "cell_type": "code",
   "execution_count": null,
   "metadata": {},
   "outputs": [],
   "source": [
    "df2 = df1.sort_values(by='dist')"
   ]
  },
  {
   "cell_type": "code",
   "execution_count": null,
   "metadata": {},
   "outputs": [],
   "source": [
    "sns.distplot(df2['param'], hist = False, kde = True, kde_kws = {'linewidth': 3})\n",
    "sns.distplot(df2.iloc[:50]['param'], hist = False, kde = True, kde_kws = {'linewidth': 3})\n",
    "sns.distplot(df2.iloc[:100]['param'], hist = False, kde = True, kde_kws = {'linewidth': 3})\n",
    "sns.distplot(df2.iloc[:250]['param'], hist = False, kde = True, kde_kws = {'linewidth': 3})\n",
    "sns.distplot(df2.iloc[:500]['param'], hist = False, kde = True, kde_kws = {'linewidth': 3})\n",
    "sns.distplot(df2.iloc[:750]['param'], hist = False, kde = True, kde_kws = {'linewidth': 3})\n",
    "plt.xlim(0,1)"
   ]
  },
  {
   "cell_type": "code",
   "execution_count": null,
   "metadata": {},
   "outputs": [],
   "source": [
    "df_top50 = pd.DataFrame({'param': df2.iloc[:50]['param'], \"label\": \"top 50\"})\n",
    "df_top100 = pd.DataFrame({'param': df2.iloc[:100]['param'], \"label\": \"top 100\"})\n",
    "df_top250 = pd.DataFrame({'param': df2.iloc[:250]['param'], \"label\": \"top 250\"})\n",
    "df_top500 = pd.DataFrame({'param': df2.iloc[:500]['param'], \"label\": \"top 500\"})\n",
    "df_top750 = pd.DataFrame({'param': df2.iloc[:750]['param'], \"label\": \"top 750\"})\n",
    "df_top1000 = pd.DataFrame({'param': df2.iloc[:1000]['param'], \"label\": \"top 1000\"})"
   ]
  },
  {
   "cell_type": "code",
   "execution_count": null,
   "metadata": {},
   "outputs": [],
   "source": [
    "df_formatted = pd.concat([df_top50, df_top100, df_top250, df_top500, df_top750, df_top1000], axis=0)"
   ]
  },
  {
   "cell_type": "code",
   "execution_count": null,
   "metadata": {},
   "outputs": [],
   "source": [
    "sns.displot(data=df_formatted, x='param', hue='label', kind='kde', fill=False, palette=sns.color_palette('bright')[:6], height=5, aspect=1.5)"
   ]
  }
 ],
 "metadata": {
  "kernelspec": {
   "display_name": "Python 3",
   "language": "python",
   "name": "python3"
  },
  "language_info": {
   "codemirror_mode": {
    "name": "ipython",
    "version": 3
   },
   "file_extension": ".py",
   "mimetype": "text/x-python",
   "name": "python",
   "nbconvert_exporter": "python",
   "pygments_lexer": "ipython3",
   "version": "3.7.3"
  }
 },
 "nbformat": 4,
 "nbformat_minor": 5
}
